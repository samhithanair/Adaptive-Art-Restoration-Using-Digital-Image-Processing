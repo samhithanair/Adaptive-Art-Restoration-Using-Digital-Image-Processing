{
 "cells": [
  {
   "cell_type": "code",
   "execution_count": 1,
   "metadata": {},
   "outputs": [],
   "source": [
    "import cv2\n",
    "import numpy as np\n",
    "from skimage import exposure"
   ]
  },
  {
   "cell_type": "code",
   "execution_count": 2,
   "metadata": {},
   "outputs": [],
   "source": [
    "def apply_gamma_correction(image, gamma=1.0):\n",
    "    invGamma = 1.0 / gamma\n",
    "    table = np.array([(i / 255.0) ** invGamma * 255 for i in np.arange(256)]).astype(\"uint8\")\n",
    "    return cv2.LUT(image, table)"
   ]
  },
  {
   "cell_type": "code",
   "execution_count": 3,
   "metadata": {},
   "outputs": [],
   "source": [
    "def contrast_stretching(image):\n",
    "    p2, p98 = np.percentile(image, (2, 98))\n",
    "    return exposure.rescale_intensity(image, in_range=(p2, p98))"
   ]
  },
  {
   "cell_type": "code",
   "execution_count": 4,
   "metadata": {},
   "outputs": [],
   "source": [
    "def get_dark_channel(image, window_size=15):\n",
    "    min_channel = np.min(image, axis=2)\n",
    "    kernel = cv2.getStructuringElement(cv2.MORPH_RECT, (window_size, window_size))\n",
    "    dark_channel = cv2.erode(min_channel, kernel)\n",
    "    return dark_channel"
   ]
  },
  {
   "cell_type": "code",
   "execution_count": 5,
   "metadata": {},
   "outputs": [],
   "source": [
    "\n",
    "def estimate_atmospheric_light(image, dark_channel, top_percent=0.001):\n",
    "    flat_image = image.reshape((-1, 3))\n",
    "    flat_dark = dark_channel.ravel()\n",
    "\n",
    "    num_pixels = dark_channel.size\n",
    "    num_brightest = int(max(num_pixels * top_percent, 1))\n",
    "\n",
    "    indices = np.argpartition(-flat_dark, num_brightest)[:num_brightest]\n",
    "    brightest = flat_image[indices]\n",
    "\n",
    "    atmospheric_light = np.mean(brightest, axis=0)\n",
    "    return atmospheric_light\n"
   ]
  },
  {
   "cell_type": "code",
   "execution_count": 6,
   "metadata": {},
   "outputs": [],
   "source": [
    "def estimate_transmission(image, atmospheric_light, omega=0.95, window_size=15):\n",
    "    norm_image = image / atmospheric_light\n",
    "    dark_channel = get_dark_channel(norm_image, window_size)\n",
    "    transmission = 1 - omega * dark_channel\n",
    "    return transmission"
   ]
  },
  {
   "cell_type": "code",
   "execution_count": 7,
   "metadata": {},
   "outputs": [],
   "source": [
    "def recover_image(image, transmission, atmospheric_light, t0=0.1):\n",
    "    transmission = np.maximum(transmission, t0)\n",
    "    result = (image - atmospheric_light) / transmission[:, :, np.newaxis] + atmospheric_light\n",
    "    result = np.clip(result, 0, 255).astype(np.uint8)\n",
    "    return result"
   ]
  },
  {
   "cell_type": "code",
   "execution_count": 8,
   "metadata": {},
   "outputs": [],
   "source": [
    "def dehaze(image):\n",
    "    dark_channel = get_dark_channel(image)\n",
    "    atmospheric_light = estimate_atmospheric_light(image, dark_channel)\n",
    "    transmission = estimate_transmission(image, atmospheric_light)\n",
    "    result = recover_image(image, transmission, atmospheric_light)\n",
    "    return result"
   ]
  },
  {
   "cell_type": "code",
   "execution_count": 9,
   "metadata": {},
   "outputs": [],
   "source": [
    "def calculate_snr(image):\n",
    "    mean_signal = np.mean(image)\n",
    "    std_noise = np.std(image)\n",
    "    if std_noise == 0:  \n",
    "        return float('inf') \n",
    "    return mean_signal / std_noise"
   ]
  },
  {
   "cell_type": "code",
   "execution_count": 10,
   "metadata": {},
   "outputs": [],
   "source": [
    "def reduce_noise(image, kernel_size=(5, 5), sigma=0):\n",
    "    return cv2.GaussianBlur(image, kernel_size, sigma)"
   ]
  },
  {
   "cell_type": "code",
   "execution_count": 11,
   "metadata": {},
   "outputs": [],
   "source": [
    "def sharpen_image(image, sigma=1.0, strength=1.5):\n",
    "    blurred = cv2.GaussianBlur(image, (0, 0), sigma)\n",
    "    sharpened = cv2.addWeighted(image, 1 + strength, blurred, -strength, 0)\n",
    "    return sharpened"
   ]
  },
  {
   "cell_type": "code",
   "execution_count": 12,
   "metadata": {},
   "outputs": [],
   "source": [
    "def adaptive_restoration(image):\n",
    "    \n",
    "    brightness = np.mean(image)\n",
    "    if brightness < 50:  \n",
    "        print(\"Applying gamma correction\")\n",
    "        image = apply_gamma_correction(image, gamma=1.5)\n",
    "\n",
    "    \n",
    "    if np.std(image) < 50:  \n",
    "        print(\"Applying contrast stretching\")\n",
    "        image = contrast_stretching(image)\n",
    "\n",
    "    if np.mean(image) < 128: \n",
    "        print(\"Applying dehazing\")\n",
    "        image = dehaze(image)\n",
    "\n",
    "    snr = calculate_snr(image)\n",
    "    if snr < 4.0:  \n",
    "        print(f\"Applying noise reduction as SNR = {snr:.2f}\")\n",
    "        image = reduce_noise(image)\n",
    "\n",
    "    sharpened_image = sharpen_image(image)\n",
    "    print(\"Image sharpening applied\")\n",
    "\n",
    "    return sharpened_image"
   ]
  },
  {
   "cell_type": "code",
   "execution_count": 14,
   "metadata": {},
   "outputs": [
    {
     "name": "stderr",
     "output_type": "stream",
     "text": [
      "<>:4: SyntaxWarning: invalid escape sequence '\\R'\n",
      "<>:4: SyntaxWarning: invalid escape sequence '\\R'\n",
      "C:\\Users\\ekru\\AppData\\Local\\Temp\\ipykernel_22536\\1667527757.py:4: SyntaxWarning: invalid escape sequence '\\R'\n",
      "  cv2.imwrite(\"results\\RestoredImage3.jpg\", restored_image)\n"
     ]
    },
    {
     "name": "stdout",
     "output_type": "stream",
     "text": [
      "Applying contrast stretching\n",
      "Applying dehazing\n",
      "Applying noise reduction as SNR = 1.85\n",
      "Image sharpening applied\n"
     ]
    },
    {
     "data": {
      "text/plain": [
       "True"
      ]
     },
     "execution_count": 14,
     "metadata": {},
     "output_type": "execute_result"
    }
   ],
   "source": [
    "image = cv2.imread('images\\\\3.jpg', cv2.IMREAD_COLOR)  \n",
    "restored_image = adaptive_restoration(image)\n",
    "\n",
    "cv2.imwrite(\"results\\RestoredImage3.jpg\", restored_image)"
   ]
  },
  {
   "cell_type": "code",
   "execution_count": 152,
   "metadata": {},
   "outputs": [
    {
     "name": "stdout",
     "output_type": "stream",
     "text": [
      "Applying contrast stretching\n",
      "Applying noise reduction as SNR = 2.53\n",
      "Image sharpening applied\n"
     ]
    },
    {
     "data": {
      "text/plain": [
       "True"
      ]
     },
     "execution_count": 152,
     "metadata": {},
     "output_type": "execute_result"
    }
   ],
   "source": [
    "image = cv2.imread('images\\old_photo_07.jpg', cv2.IMREAD_COLOR) \n",
    "restored_image = adaptive_restoration(image)\n",
    "\n",
    "cv2.imwrite(\"results\\RestoredImage7.jpg\", restored_image)"
   ]
  },
  {
   "cell_type": "code",
   "execution_count": 153,
   "metadata": {},
   "outputs": [
    {
     "name": "stdout",
     "output_type": "stream",
     "text": [
      "Applying dehazing\n",
      "Applying noise reduction as SNR = 1.86\n",
      "Image sharpening applied\n"
     ]
    },
    {
     "data": {
      "text/plain": [
       "True"
      ]
     },
     "execution_count": 153,
     "metadata": {},
     "output_type": "execute_result"
    }
   ],
   "source": [
    "image = cv2.imread('images\\old_photo_09.jpeg', cv2.IMREAD_COLOR) \n",
    "restored_image = adaptive_restoration(image)\n",
    "\n",
    "cv2.imwrite(\"results\\RestoredImage9.jpg\", restored_image)"
   ]
  },
  {
   "cell_type": "code",
   "execution_count": 154,
   "metadata": {},
   "outputs": [
    {
     "name": "stdout",
     "output_type": "stream",
     "text": [
      "Applying gamma correction\n",
      "Applying contrast stretching\n",
      "Applying dehazing\n",
      "Applying noise reduction as SNR = 1.26\n",
      "Image sharpening applied\n"
     ]
    },
    {
     "data": {
      "text/plain": [
       "True"
      ]
     },
     "execution_count": 154,
     "metadata": {},
     "output_type": "execute_result"
    }
   ],
   "source": [
    "image = cv2.imread('images\\\\11.jpg', cv2.IMREAD_COLOR)  \n",
    "restored_image = adaptive_restoration(image)\n",
    "\n",
    "cv2.imwrite(\"results\\RestoredImage11.jpg\", restored_image)"
   ]
  },
  {
   "cell_type": "code",
   "execution_count": 155,
   "metadata": {},
   "outputs": [
    {
     "name": "stdout",
     "output_type": "stream",
     "text": [
      "Applying contrast stretching\n",
      "Applying dehazing\n",
      "Applying noise reduction as SNR = 1.23\n",
      "Image sharpening applied\n"
     ]
    },
    {
     "data": {
      "text/plain": [
       "True"
      ]
     },
     "execution_count": 155,
     "metadata": {},
     "output_type": "execute_result"
    }
   ],
   "source": [
    "image = cv2.imread('images\\\\26.jpg', cv2.IMREAD_COLOR) \n",
    "restored_image = adaptive_restoration(image)\n",
    "\n",
    "cv2.imwrite(\"results\\RestoredImage26.jpg\", restored_image)"
   ]
  },
  {
   "cell_type": "code",
   "execution_count": 156,
   "metadata": {},
   "outputs": [
    {
     "name": "stdout",
     "output_type": "stream",
     "text": [
      "Applying dehazing\n",
      "Applying noise reduction as SNR = 1.23\n",
      "Image sharpening applied\n"
     ]
    },
    {
     "data": {
      "text/plain": [
       "True"
      ]
     },
     "execution_count": 156,
     "metadata": {},
     "output_type": "execute_result"
    }
   ],
   "source": [
    "image = cv2.imread('images\\\\14.jpg', cv2.IMREAD_COLOR)  \n",
    "restored_image = adaptive_restoration(image)\n",
    "\n",
    "cv2.imwrite(\"results\\RestoredImage14.jpg\", restored_image)"
   ]
  },
  {
   "cell_type": "code",
   "execution_count": 158,
   "metadata": {},
   "outputs": [
    {
     "name": "stdout",
     "output_type": "stream",
     "text": [
      "Applying gamma correction\n",
      "Applying contrast stretching\n",
      "Applying noise reduction as SNR = 2.65\n",
      "Image sharpening applied\n"
     ]
    },
    {
     "data": {
      "text/plain": [
       "True"
      ]
     },
     "execution_count": 158,
     "metadata": {},
     "output_type": "execute_result"
    }
   ],
   "source": [
    "image = cv2.imread('images\\\\21.jpg', cv2.IMREAD_COLOR)  \n",
    "restored_image = adaptive_restoration(image)\n",
    "\n",
    "cv2.imwrite(\"results\\RestoredImage-test.jpg\", restored_image)"
   ]
  },
  {
   "cell_type": "code",
   "execution_count": null,
   "metadata": {},
   "outputs": [],
   "source": []
  }
 ],
 "metadata": {
  "kernelspec": {
   "display_name": "Python 3",
   "language": "python",
   "name": "python3"
  },
  "language_info": {
   "codemirror_mode": {
    "name": "ipython",
    "version": 3
   },
   "file_extension": ".py",
   "mimetype": "text/x-python",
   "name": "python",
   "nbconvert_exporter": "python",
   "pygments_lexer": "ipython3",
   "version": "3.12.6"
  }
 },
 "nbformat": 4,
 "nbformat_minor": 2
}
